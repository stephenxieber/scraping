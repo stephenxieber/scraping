{
 "cells": [
  {
   "cell_type": "code",
   "execution_count": 2,
   "metadata": {},
   "outputs": [
    {
     "name": "stdout",
     "output_type": "stream",
     "text": [
      "<!DOCTYPE html><html lang=\"cn\"> <head><meta charset=\"UTF-8\"><title>Scraping tutorial 1 | 莫烦Python</title><link rel=\"icon\" href=\"{{ url_for('static', filename='img/description/tab_icon.png') }}\"></head> <body> <h1>爬虫测试1</h1> <p> 这是一个在 <a href=\"/\">莫烦Python</a> <a href=\"/tutorials/data-manipulation/scraping/\">爬虫教程</a> 中的简单测试. </p> </body> </html> \n"
     ]
    }
   ],
   "source": [
    "from urllib.request import urlopen\n",
    "\n",
    "# 登录网页，读取网页的所有信息\n",
    "# if has Chinese, appply decode()\n",
    "html = urlopen(\n",
    "    \"https://mofanpy.com/static/scraping/basic-structure.html\"\n",
    ").read().decode('utf-8')\n",
    "print(html)"
   ]
  },
  {
   "cell_type": "code",
   "execution_count": 3,
   "metadata": {},
   "outputs": [
    {
     "name": "stdout",
     "output_type": "stream",
     "text": [
      "\n",
      "Page title is:  Scraping tutorial 1 | 莫烦Python\n"
     ]
    }
   ],
   "source": [
    "# 用正则式找网页中title的内容\n",
    "import re\n",
    "res = re.findall(r\"<title>(.+?)</title>\", html)\n",
    "print(\"\\nPage title is: \", res[0])"
   ]
  },
  {
   "cell_type": "code",
   "execution_count": 4,
   "metadata": {},
   "outputs": [
    {
     "name": "stdout",
     "output_type": "stream",
     "text": [
      "\n",
      "Page paragraph is:   这是一个在 <a href=\"/\">莫烦Python</a> <a href=\"/tutorials/data-manipulation/scraping/\">爬虫教程</a> 中的简单测试. \n"
     ]
    }
   ],
   "source": [
    "# 用正则式找tag<p>，由于<p> 在html中有new line, tab等等，所以用flags=re.DOTALL 来对new line, tab这些不敏感\n",
    "res = re.findall(r\"<p>(.*?)</p>\", html, flags=re.DOTALL)\n",
    "print(\"\\nPage paragraph is: \", res[0])"
   ]
  },
  {
   "cell_type": "code",
   "execution_count": 5,
   "metadata": {},
   "outputs": [
    {
     "name": "stdout",
     "output_type": "stream",
     "text": [
      "\n",
      "All links:  [\"{{ url_for('static', filename='img/description/tab_icon.png') }}\", '/', '/tutorials/data-manipulation/scraping/']\n"
     ]
    }
   ],
   "source": [
    "# 找网页中的链接<a>, e.g, 找到网页中的链接，然后下载一些内容到电脑里\n",
    "res = re.findall(r'href=\"(.*?)\"', html)\n",
    "print(\"\\nAll links: \", res)"
   ]
  },
  {
   "cell_type": "code",
   "execution_count": null,
   "metadata": {},
   "outputs": [],
   "source": []
  }
 ],
 "metadata": {
  "kernelspec": {
   "display_name": "Python 3",
   "language": "python",
   "name": "python3"
  },
  "language_info": {
   "codemirror_mode": {
    "name": "ipython",
    "version": 3
   },
   "file_extension": ".py",
   "mimetype": "text/x-python",
   "name": "python",
   "nbconvert_exporter": "python",
   "pygments_lexer": "ipython3",
   "version": "3.8.10"
  }
 },
 "nbformat": 4,
 "nbformat_minor": 4
}
